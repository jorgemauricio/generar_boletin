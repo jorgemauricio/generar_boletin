{
 "cells": [
  {
   "cell_type": "code",
   "execution_count": 9,
   "metadata": {},
   "outputs": [],
   "source": [
    "import pandas as pd\n",
    "import numpy as np\n",
    "import matplotlib.pyplot as plt\n",
    "from time import strftime\n",
    "import os\n",
    "%matplotlib inline"
   ]
  },
  {
   "cell_type": "code",
   "execution_count": 10,
   "metadata": {},
   "outputs": [],
   "source": [
    "\"\"\"\n",
    "Función que genera los mapas de temperatura mínima\n",
    "\"\"\"\n",
    "#%% fecha del pronostico\n",
    "fechaPronostico = strftime(\"%Y-%m-%d\")\n",
    "variables = [\"Rain\",\"Tmax\",\"Tmin\",\"Tpro\",\"Hr\",\"Hrmin\",\"Hrmax\"]\n",
    "\n",
    "LAT_MAX = 33.5791\n",
    "LAT_MIN = 12.3782\n",
    "\n",
    "LONG_MAX = -86.101\n",
    "LONG_MIN = -118.236\n",
    "\n",
    "#%% generate arrayFechas\n",
    "# Generate Days\n",
    "arrayFechas = []\n",
    "tanio, tmes, tdia = fechaPronostico.split('-')\n",
    "anio = int(tanio)\n",
    "mes = int(tmes)\n",
    "dia = int(tdia)\n",
    "\n",
    "dirAnio = anio\n",
    "dirMes = mes\n",
    "dirDia = dia\n",
    "\n",
    "#%% generate arrayFechas\n",
    "\n",
    "for i in range(0,5,1):\n",
    "    if i == 0:\n",
    "        newDiaString = '{}'.format(dia)\n",
    "        if len(newDiaString) == 1:\n",
    "            newDiaString = '0' + newDiaString\n",
    "        newMesString = '{}'.format(mes)\n",
    "        if len(newMesString) == 1:\n",
    "            newMesString = '0' + newMesString\n",
    "        fecha = '{}'.format(anio)+\"-\"+newMesString+\"-\"+newDiaString\n",
    "        arrayFechas.append(fecha)\n",
    "    if i > 0:\n",
    "        dia = dia + 1\n",
    "        if mes == 2 and anio % 4 == 0:\n",
    "            diaEnElMes = 29\n",
    "        elif mes == 2 and anio % 4 != 0:\n",
    "            diaEnElMes = 28\n",
    "        elif mes == 1 or mes == 3 or mes == 5 or mes == 7 or mes == 8 or mes == 10 or mes == 12:\n",
    "            diaEnElMes = 31\n",
    "        elif mes == 4 or mes == 6 or mes == 9 or mes == 11:\n",
    "            diaEnElMes = 30\n",
    "        if dia > diaEnElMes:\n",
    "            mes = mes + 1\n",
    "            dia = 1\n",
    "        if mes > 12:\n",
    "            anio = anio + 1\n",
    "            mes = 1\n",
    "        newDiaString = '{}'.format(dia)\n",
    "        if len(newDiaString) == 1:\n",
    "            newDiaString = '0' + newDiaString\n",
    "        newMesString = '{}'.format(mes)\n",
    "        if len(newMesString) == 1:\n",
    "            newMesString = '0' + newMesString\n",
    "        fecha = '{}'.format(anio)+\"-\"+newMesString+\"-\"+newDiaString\n",
    "        arrayFechas.append(fecha)\n",
    "\n",
    "# path server\n",
    "path = \"/home/jorge/Documents/Research/generar_boletin\"\n",
    "# os.chdir(\"/home/jorge/Documents/work/autoPronosticoSonora\")\n",
    "os.chdir(path)\n",
    "\n",
    "#%% read csvs\n",
    "pathFile1 = '{}/data/{}/d1.txt'.format(path, fechaPronostico)\n",
    "pathFile2 = '{}/data/{}/d2.txt'.format(path, fechaPronostico)\n",
    "pathFile3 = '{}/data/{}/d3.txt'.format(path, fechaPronostico)\n",
    "pathFile4 = '{}/data/{}/d4.txt'.format(path, fechaPronostico)\n",
    "pathFile5 = '{}/data/{}/d5.txt'.format(path, fechaPronostico)\n",
    "\n",
    "data1 = pd.read_table(pathFile1, sep=',')\n",
    "data2 = pd.read_table(pathFile2, sep=',')\n",
    "data3 = pd.read_table(pathFile3, sep=',')\n",
    "data4 = pd.read_table(pathFile4, sep=',')\n",
    "data5 = pd.read_table(pathFile5, sep=',')\n",
    "\n",
    "cols = [\"Long\",\"Lat\",\"Graupel\",\"Hail\",\"Rain\",\"Tmax\",\"Tmin\",\"Tpro\",\"Dpoint\",\"Hr\",\"Windpro\",\"WindDir\",\"Hrmin\",\"Hrmax\",\"TprSoil0_10\",\"TprSoil10_40\",\"WprSoil0_10\",\"WprSoil10_40\"]\n",
    "\n",
    "data1.columns = cols\n",
    "data2.columns = cols\n",
    "data3.columns = cols\n",
    "data4.columns = cols\n",
    "data5.columns = cols"
   ]
  },
  {
   "cell_type": "code",
   "execution_count": 83,
   "metadata": {},
   "outputs": [
    {
     "name": "stdout",
     "output_type": "stream",
     "text": [
      "\n",
      "\n",
      "\n",
      "\n",
      "\n"
     ]
    },
    {
     "data": {
      "image/png": "[encoded data removed]",
      "text/plain": [
       "<matplotlib.figure.Figure at 0x7fe967024da0>"
      ]
     },
     "metadata": {},
     "output_type": "display_data"
    }
   ],
   "source": [
    "#%% make one dataFrame\n",
    "variable = \"Rain\"\n",
    "data = data1.filter(items=['Long', 'Lat'])\n",
    "data['{}1'.format(variable)] = data1[variable]\n",
    "data['{}2'.format(variable)] = data2[variable]\n",
    "data['{}3'.format(variable)] = data3[variable]\n",
    "data['{}4'.format(variable)] = data4[variable]\n",
    "data['{}5'.format(variable)] = data5[variable]\n",
    "\n",
    "#%% get values from Ags\n",
    "data = data.loc[data['Lat'] >= LAT_MIN]\n",
    "data = data.loc[data['Lat'] <= LAT_MAX]\n",
    "data = data.loc[data['Long'] >= LONG_MIN]\n",
    "data = data.loc[data['Long'] <= LONG_MAX]\n",
    "\n",
    "y1 = []\n",
    "y2 = []\n",
    "\n",
    "for k in range(1,6):\n",
    "    y1.append(data[\"Rain{}\".format(k)].max())\n",
    "    y2.append(data[\"Rain{}\".format(k)].min())\n",
    "    print()\n",
    "    \n",
    "ind = np.arange(5)\n",
    "fig, ax = plt.subplots()\n",
    "width = 0.35\n",
    "rects1 = ax.bar(ind, y1, width, color='r')\n",
    "rects2 = ax.bar(ind + width, y2, width, color='b')\n",
    "\n",
    "# add some text for labels, title and axes ticks\n",
    "ax.set_ylabel('mm')\n",
    "ax.set_title('Precipitación')\n",
    "ax.set_xticks(ind + width / 2)\n",
    "ax.set_xticklabels(arrayFechas)\n",
    "\n",
    "ax.legend((rects1[0], rects2[0]), ('Máximo', 'Mínimo'))\n",
    "\n",
    "def autolabel(rects):\n",
    "    \"\"\"\n",
    "    Attach a text label above each bar displaying its height\n",
    "    \"\"\"\n",
    "    for rect in rects:\n",
    "        height = rect.get_height()\n",
    "        ax.text(rect.get_x() + rect.get_width()/2., .90*height,\n",
    "                '%d' % int(height),\n",
    "                ha='center', va='bottom')\n",
    "\n",
    "autolabel(rects1)\n",
    "autolabel(rects2)\n"
   ]
  },
  {
   "cell_type": "code",
   "execution_count": 13,
   "metadata": {},
   "outputs": [
    {
     "data": {
      "text/html": [
       "<div>\n",
       "<style scoped>\n",
       "    .dataframe tbody tr th:only-of-type {\n",
       "        vertical-align: middle;\n",
       "    }\n",
       "\n",
       "    .dataframe tbody tr th {\n",
       "        vertical-align: top;\n",
       "    }\n",
       "\n",
       "    .dataframe thead th {\n",
       "        text-align: right;\n",
       "    }\n",
       "</style>\n",
       "<table border=\"1\" class=\"dataframe\">\n",
       "  <thead>\n",
       "    <tr style=\"text-align: right;\">\n",
       "      <th></th>\n",
       "      <th>Long</th>\n",
       "      <th>Lat</th>\n",
       "      <th>Rain</th>\n",
       "      <th>Rain1</th>\n",
       "      <th>Rain2</th>\n",
       "      <th>Rain3</th>\n",
       "      <th>Rain4</th>\n",
       "      <th>Rain5</th>\n",
       "    </tr>\n",
       "  </thead>\n",
       "  <tbody>\n",
       "    <tr>\n",
       "      <th>0</th>\n",
       "      <td>-118.236</td>\n",
       "      <td>12.3782</td>\n",
       "      <td>0.903</td>\n",
       "      <td>0.903</td>\n",
       "      <td>0.000</td>\n",
       "      <td>0.001</td>\n",
       "      <td>0.030</td>\n",
       "      <td>0.04</td>\n",
       "    </tr>\n",
       "    <tr>\n",
       "      <th>1</th>\n",
       "      <td>-118.109</td>\n",
       "      <td>12.3782</td>\n",
       "      <td>0.278</td>\n",
       "      <td>0.278</td>\n",
       "      <td>0.000</td>\n",
       "      <td>0.000</td>\n",
       "      <td>0.022</td>\n",
       "      <td>0.03</td>\n",
       "    </tr>\n",
       "    <tr>\n",
       "      <th>2</th>\n",
       "      <td>-117.981</td>\n",
       "      <td>12.3782</td>\n",
       "      <td>0.215</td>\n",
       "      <td>0.215</td>\n",
       "      <td>0.000</td>\n",
       "      <td>0.000</td>\n",
       "      <td>0.014</td>\n",
       "      <td>0.02</td>\n",
       "    </tr>\n",
       "    <tr>\n",
       "      <th>3</th>\n",
       "      <td>-117.854</td>\n",
       "      <td>12.3782</td>\n",
       "      <td>0.442</td>\n",
       "      <td>0.442</td>\n",
       "      <td>0.000</td>\n",
       "      <td>0.000</td>\n",
       "      <td>0.000</td>\n",
       "      <td>0.02</td>\n",
       "    </tr>\n",
       "    <tr>\n",
       "      <th>4</th>\n",
       "      <td>-117.726</td>\n",
       "      <td>12.3782</td>\n",
       "      <td>2.492</td>\n",
       "      <td>2.492</td>\n",
       "      <td>0.001</td>\n",
       "      <td>5.184</td>\n",
       "      <td>0.000</td>\n",
       "      <td>0.04</td>\n",
       "    </tr>\n",
       "  </tbody>\n",
       "</table>\n",
       "</div>"
      ],
      "text/plain": [
       "      Long      Lat   Rain  Rain1  Rain2  Rain3  Rain4  Rain5\n",
       "0 -118.236  12.3782  0.903  0.903  0.000  0.001  0.030   0.04\n",
       "1 -118.109  12.3782  0.278  0.278  0.000  0.000  0.022   0.03\n",
       "2 -117.981  12.3782  0.215  0.215  0.000  0.000  0.014   0.02\n",
       "3 -117.854  12.3782  0.442  0.442  0.000  0.000  0.000   0.02\n",
       "4 -117.726  12.3782  2.492  2.492  0.001  5.184  0.000   0.04"
      ]
     },
     "execution_count": 13,
     "metadata": {},
     "output_type": "execute_result"
    }
   ],
   "source": [
    "data.head()"
   ]
  },
  {
   "cell_type": "code",
   "execution_count": 14,
   "metadata": {},
   "outputs": [
    {
     "data": {
      "text/plain": [
       "Index(['Long', 'Lat', 'Rain', 'Rain1', 'Rain2', 'Rain3', 'Rain4', 'Rain5'], dtype='object')"
      ]
     },
     "execution_count": 14,
     "metadata": {},
     "output_type": "execute_result"
    }
   ],
   "source": [
    "data.columns"
   ]
  },
  {
   "cell_type": "code",
   "execution_count": 32,
   "metadata": {},
   "outputs": [
    {
     "data": {
      "text/plain": [
       "Text(0.5,1,'Gráfica')"
      ]
     },
     "execution_count": 32,
     "metadata": {},
     "output_type": "execute_result"
    },
    {
     "data": {
      "image/png": "[encoded data removed]",
      "text/plain": [
       "<matplotlib.figure.Figure at 0x7fe972be0390>"
      ]
     },
     "metadata": {},
     "output_type": "display_data"
    }
   ],
   "source": [
    "plt.plot(1, data[\"Rain1\"].max(), 2, \"r\", data[\"Rain2\"].max(), \"b\")\n",
    "plt.title(\"Gráfica\")"
   ]
  },
  {
   "cell_type": "code",
   "execution_count": 28,
   "metadata": {},
   "outputs": [
    {
     "data": {
      "text/plain": [
       "90.7"
      ]
     },
     "execution_count": 28,
     "metadata": {},
     "output_type": "execute_result"
    }
   ],
   "source": [
    "data[\"Rain1\"].max()"
   ]
  },
  {
   "cell_type": "code",
   "execution_count": 39,
   "metadata": {},
   "outputs": [
    {
     "data": {
      "text/plain": [
       "<matplotlib.axes._subplots.AxesSubplot at 0x7fe96a13f4e0>"
      ]
     },
     "execution_count": 39,
     "metadata": {},
     "output_type": "execute_result"
    },
    {
     "data": {
      "image/png": "[encoded data removed]",
      "text/plain": [
       "<matplotlib.figure.Figure at 0x7fe96a1975c0>"
      ]
     },
     "metadata": {},
     "output_type": "display_data"
    }
   ],
   "source": [
    "pd.Series(data.max()).plot.bar()"
   ]
  },
  {
   "cell_type": "code",
   "execution_count": null,
   "metadata": {},
   "outputs": [],
   "source": []
  },
  {
   "cell_type": "code",
   "execution_count": null,
   "metadata": {},
   "outputs": [],
   "source": []
  }
 ],
 "metadata": {
  "kernelspec": {
   "display_name": "Python 3",
   "language": "python",
   "name": "python3"
  },
  "language_info": {
   "codemirror_mode": {
    "name": "ipython",
    "version": 3
   },
   "file_extension": ".py",
   "mimetype": "text/x-python",
   "name": "python",
   "nbconvert_exporter": "python",
   "pygments_lexer": "ipython3",
   "version": "3.5.4"
  }
 },
 "nbformat": 4,
 "nbformat_minor": 2
}
